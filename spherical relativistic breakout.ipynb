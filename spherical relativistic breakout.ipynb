{
 "cells": [
  {
   "cell_type": "markdown",
   "metadata": {},
   "source": [
    "In this notebook I reproduce the results from my paper."
   ]
  },
  {
   "cell_type": "code",
   "execution_count": 62,
   "metadata": {
    "collapsed": true
   },
   "outputs": [],
   "source": [
    "import sympy\n",
    "sympy.init_printing()"
   ]
  },
  {
   "cell_type": "markdown",
   "metadata": {},
   "source": [
    "Pressure immediately downstream"
   ]
  },
  {
   "cell_type": "code",
   "execution_count": 63,
   "metadata": {
    "collapsed": false
   },
   "outputs": [
    {
     "data": {
      "image/png": "[encoded data removed]",
      "text/latex": [
       "$$p_{s} = c^{2} \\eta \\gamma_{s}^{2} m n_{0}$$"
      ],
      "text/plain": [
       "       2      2     \n",
       "p_s = c ⋅η⋅γ_s ⋅m⋅n₀"
      ]
     },
     "execution_count": 63,
     "metadata": {},
     "output_type": "execute_result"
    }
   ],
   "source": [
    "gamma_s = sympy.Symbol('gamma_s',positive=True)\n",
    "p_s = sympy.Symbol('p_s')\n",
    "eta = sympy.Symbol('eta')\n",
    "n_0 = sympy.Symbol('n_0')\n",
    "m = sympy.Symbol('m',positive=True)\n",
    "c = sympy.Symbol('c',positive=True)\n",
    "eqn_1 = sympy.Eq(p_s, eta*n_0*m*c**2*gamma_s**2)\n",
    "eqn_1"
   ]
  },
  {
   "cell_type": "markdown",
   "metadata": {},
   "source": [
    "Density immediately downstream"
   ]
  },
  {
   "cell_type": "code",
   "execution_count": 65,
   "metadata": {
    "collapsed": false
   },
   "outputs": [
    {
     "data": {
      "image/png": "[encoded data removed]",
      "text/latex": [
       "$$n_{s} = \\gamma_{s} n_{0}$$"
      ],
      "text/plain": [
       "n_s = γ_s⋅n₀"
      ]
     },
     "execution_count": 65,
     "metadata": {},
     "output_type": "execute_result"
    }
   ],
   "source": [
    "n_s = sympy.Symbol('n_s')\n",
    "downstream_density = sympy.Eq(n_s,n_0*gamma_s)\n",
    "downstream_density"
   ]
  },
  {
   "cell_type": "markdown",
   "metadata": {},
   "source": [
    "Entropy"
   ]
  },
  {
   "cell_type": "code",
   "execution_count": 66,
   "metadata": {
    "collapsed": false
   },
   "outputs": [
    {
     "data": {
      "image/png": "[encoded data removed]",
      "text/latex": [
       "$$- \\eta \\log{\\left (n \\right )} + \\log{\\left (p \\right )}$$"
      ],
      "text/plain": [
       "-η⋅log(n) + log(p)"
      ]
     },
     "execution_count": 66,
     "metadata": {},
     "output_type": "execute_result"
    }
   ],
   "source": [
    "n = sympy.Symbol('n')\n",
    "p = sympy.Symbol('p')\n",
    "entropy = sympy.log(p) - eta*sympy.log(n)\n",
    "entropy"
   ]
  },
  {
   "cell_type": "markdown",
   "metadata": {},
   "source": [
    "Adiabatic relations"
   ]
  },
  {
   "cell_type": "code",
   "execution_count": 67,
   "metadata": {
    "collapsed": false
   },
   "outputs": [
    {
     "data": {
      "image/png": "[encoded data removed]",
      "text/latex": [
       "$$- \\eta \\log{\\left (n_{s} \\right )} + \\log{\\left (p_{s} \\right )} = - \\eta \\log{\\left (n_{t} \\right )} + \\log{\\left (p_{t} \\right )}$$"
      ],
      "text/plain": [
       "-η⋅log(n_s) + log(p_s) = -η⋅log(n_t) + log(p_t)"
      ]
     },
     "execution_count": 67,
     "metadata": {},
     "output_type": "execute_result"
    }
   ],
   "source": [
    "p_t = sympy.Symbol('p_t')\n",
    "n_t = sympy.Symbol('n_t')\n",
    "eqn_2 = sympy.Eq(entropy.subs({p:p_s,n:n_s}),\n",
    "                entropy.subs({p:p_t,n:n_t}))\n",
    "eqn_2"
   ]
  },
  {
   "cell_type": "markdown",
   "metadata": {},
   "source": [
    "Spherical Riemann invariant"
   ]
  },
  {
   "cell_type": "code",
   "execution_count": 68,
   "metadata": {
    "collapsed": false
   },
   "outputs": [
    {
     "data": {
      "image/png": "[encoded data removed]",
      "text/latex": [
       "$$\\frac{2 \\sqrt{\\eta - 1} \\log{\\left (r \\right )}}{\\sqrt{\\eta - 1} + 1} + \\log{\\left (\\gamma \\right )} + \\frac{1}{\\eta} \\sqrt{\\eta - 1} \\log{\\left (p \\right )}$$"
      ],
      "text/plain": [
       "    _______                     _______       \n",
       "2⋅╲╱ η - 1 ⋅log(r)            ╲╱ η - 1 ⋅log(p)\n",
       "────────────────── + log(γ) + ────────────────\n",
       "    _______                          η        \n",
       "  ╲╱ η - 1  + 1                               "
      ]
     },
     "execution_count": 68,
     "metadata": {},
     "output_type": "execute_result"
    }
   ],
   "source": [
    "r = sympy.Symbol('r')\n",
    "gamma = sympy.Symbol('gamma')\n",
    "riemann_invariant = sympy.log(gamma)+sympy.sqrt(eta-1)*sympy.log(p)/eta + 2*sympy.sqrt(eta-1)/(1+sympy.sqrt(eta-1))*sympy.log(r)\n",
    "riemann_invariant"
   ]
  },
  {
   "cell_type": "markdown",
   "metadata": {},
   "source": [
    "Terminal pressure"
   ]
  },
  {
   "cell_type": "code",
   "execution_count": 69,
   "metadata": {
    "collapsed": false
   },
   "outputs": [
    {
     "data": {
      "image/png": "[encoded data removed]",
      "text/latex": [
       "$$p_{t} = c^{2} m n_{t}$$"
      ],
      "text/plain": [
       "       2      \n",
       "p_t = c ⋅m⋅n_t"
      ]
     },
     "execution_count": 69,
     "metadata": {},
     "output_type": "execute_result"
    }
   ],
   "source": [
    "terminal_pressure = sympy.Eq(p_t,m*n_t*c**2)\n",
    "terminal_pressure"
   ]
  },
  {
   "cell_type": "markdown",
   "metadata": {},
   "source": [
    "Breakout lorentz factor profile"
   ]
  },
  {
   "cell_type": "code",
   "execution_count": 70,
   "metadata": {
    "collapsed": false
   },
   "outputs": [
    {
     "data": {
      "image/png": "[encoded data removed]",
      "text/latex": [
       "$$\\gamma_{s} = \\frac{\\sqrt{E}}{\\sqrt{M} c \\left(\\frac{x}{R}\\right)^{\\mu \\omega}}$$"
      ],
      "text/plain": [
       "            -μ⋅ω\n",
       "         ⎛x⎞    \n",
       "      √E⋅⎜─⎟    \n",
       "         ⎝R⎠    \n",
       "γ_s = ──────────\n",
       "         √M⋅c   "
      ]
     },
     "execution_count": 70,
     "metadata": {},
     "output_type": "execute_result"
    }
   ],
   "source": [
    "E = sympy.Symbol('E',positive=True)\n",
    "M = sympy.Symbol('M',positive=True)\n",
    "x = sympy.Symbol('x',positive=True)\n",
    "R = sympy.Symbol('R',positive=True)\n",
    "mu = sympy.Symbol('mu',positive=True)\n",
    "omega = sympy.Symbol('omega',positive=True)\n",
    "lf_profile = sympy.Eq(gamma_s,sympy.sqrt(E/M/c**2)*(x/R)**(-mu*omega))\n",
    "lf_profile"
   ]
  },
  {
   "cell_type": "markdown",
   "metadata": {},
   "source": [
    "Upstream (unshocked) density profile"
   ]
  },
  {
   "cell_type": "code",
   "execution_count": 72,
   "metadata": {
    "collapsed": false
   },
   "outputs": [
    {
     "data": {
      "image/png": "[encoded data removed]",
      "text/latex": [
       "$$n_{0} = \\frac{M \\left(\\frac{x}{R}\\right)^{\\omega}}{R^{3} m}$$"
      ],
      "text/plain": [
       "          ω\n",
       "       ⎛x⎞ \n",
       "     M⋅⎜─⎟ \n",
       "       ⎝R⎠ \n",
       "n₀ = ──────\n",
       "       3   \n",
       "      R ⋅m "
      ]
     },
     "execution_count": 72,
     "metadata": {},
     "output_type": "execute_result"
    }
   ],
   "source": [
    "upstream_density_profile = sympy.Eq(n_0,(M/m)*(x/R)**omega/R**3)\n",
    "upstream_density_profile"
   ]
  },
  {
   "cell_type": "markdown",
   "metadata": {},
   "source": [
    "Ansatz for the terminal lorentz factor"
   ]
  },
  {
   "cell_type": "code",
   "execution_count": 73,
   "metadata": {
    "collapsed": false
   },
   "outputs": [
    {
     "data": {
      "image/png": "[encoded data removed]",
      "text/latex": [
       "$$\\gamma_{t} = \\gamma_{s}^{\\sigma} \\left(\\frac{E}{M c^{2}}\\right)^{\\psi}$$"
      ],
      "text/plain": [
       "                 ψ\n",
       "         σ ⎛ E  ⎞ \n",
       "γ_t = γ_s ⋅⎜────⎟ \n",
       "           ⎜   2⎟ \n",
       "           ⎝M⋅c ⎠ "
      ]
     },
     "execution_count": 73,
     "metadata": {},
     "output_type": "execute_result"
    }
   ],
   "source": [
    "psi = sympy.Symbol('psi',real=True)\n",
    "gamma_t = sympy.Symbol('gamma_t',positive=True)\n",
    "sigma = sympy.Symbol('sigma', positive=True)\n",
    "terminal_gamma_ansatz = sympy.Eq(gamma_t,(E/M/c**2)**psi*gamma_s**sigma)\n",
    "terminal_gamma_ansatz"
   ]
  },
  {
   "cell_type": "markdown",
   "metadata": {},
   "source": [
    "Width of a cell at the end of the acceleration phase"
   ]
  },
  {
   "cell_type": "code",
   "execution_count": 74,
   "metadata": {
    "collapsed": false
   },
   "outputs": [
    {
     "data": {
      "image/png": "[encoded data removed]",
      "text/latex": [
       "$$dx' = \\frac{dx \\mu}{R} E^{- 2 \\psi - \\frac{1}{2 \\mu \\omega}} M^{2 \\psi + \\frac{1}{2 \\mu \\omega}} c^{4 \\psi + \\frac{1}{\\mu \\omega}} \\gamma_{s}^{- 2 \\sigma + \\frac{1}{\\mu \\omega}} \\omega r_{t} \\sigma$$"
      ],
      "text/plain": [
       "                1            1           1                1           \n",
       "       -2⋅ψ - ─────  2⋅ψ + ─────  4⋅ψ + ───       -2⋅σ + ───          \n",
       "              2⋅μ⋅ω        2⋅μ⋅ω        μ⋅ω              μ⋅ω          \n",
       "      E            ⋅M           ⋅c         ⋅dx⋅γ_s          ⋅μ⋅ω⋅r_t⋅σ\n",
       "dx' = ────────────────────────────────────────────────────────────────\n",
       "                                     R                                "
      ]
     },
     "execution_count": 74,
     "metadata": {},
     "output_type": "execute_result"
    }
   ],
   "source": [
    "dxt = sympy.Symbol(\"dx'\")\n",
    "dx = sympy.Symbol('dx')\n",
    "r_t = sympy.Symbol('r_t', positive=True)\n",
    "temp = sympy.sqrt(1-1/gamma_t**2)\n",
    "temp = sympy.series(temp,x=gamma_t,x0=sympy.oo,n=3).removeO()\n",
    "temp = temp.subs(gamma_t,sympy.solve(terminal_gamma_ansatz,gamma_t)[0])\n",
    "temp = temp.subs(gamma_s,lf_profile.rhs)\n",
    "temp = -temp.diff(x)\n",
    "temp = temp.subs(x,sympy.solve(lf_profile,x)[0])\n",
    "temp = sympy.expand_power_base(temp,force=True)\n",
    "temp = temp.simplify()\n",
    "eqn_6 = sympy.Eq(dxt,dx*temp*r_t)\n",
    "eqn_6"
   ]
  },
  {
   "cell_type": "markdown",
   "metadata": {},
   "source": [
    "The terminal density is given by"
   ]
  },
  {
   "cell_type": "code",
   "execution_count": 75,
   "metadata": {
    "collapsed": false
   },
   "outputs": [
    {
     "data": {
      "image/png": "[encoded data removed]",
      "text/latex": [
       "$$n_{t} = \\frac{E^{\\psi + \\frac{1}{2 \\mu} + \\frac{1}{2 \\mu \\omega}}}{m \\mu \\omega r_{t}^{3} \\sigma} M^{- \\psi + 1 - \\frac{1}{2 \\mu} - \\frac{1}{2 \\mu \\omega}} c^{- 2 \\psi - \\frac{1}{\\mu} - \\frac{1}{\\mu \\omega}} \\gamma_{s}^{\\sigma - \\frac{1}{\\mu} - \\frac{1}{\\mu \\omega}}$$"
      ],
      "text/plain": [
       "            1      1              1      1           1    1         1    1 \n",
       "       ψ + ─── + ─────  -ψ + 1 - ─── - ─────  -2⋅ψ - ─ - ───    σ - ─ - ───\n",
       "           2⋅μ   2⋅μ⋅ω           2⋅μ   2⋅μ⋅ω         μ   μ⋅ω        μ   μ⋅ω\n",
       "      E               ⋅M                    ⋅c              ⋅γ_s           \n",
       "n_t = ─────────────────────────────────────────────────────────────────────\n",
       "                                            3                              \n",
       "                                   m⋅μ⋅ω⋅r_t ⋅σ                            "
      ]
     },
     "execution_count": 75,
     "metadata": {},
     "output_type": "execute_result"
    }
   ],
   "source": [
    "temp = n_0*(R**2*dx)/(gamma_t*r_t**2*dxt)\n",
    "temp = temp.subs(gamma_t,terminal_gamma_ansatz.rhs)\n",
    "temp = temp.subs(dxt,eqn_6.rhs)\n",
    "temp = temp.subs(n_0,upstream_density_profile.rhs)\n",
    "temp = temp.subs(x,sympy.solve(lf_profile,x)[0])\n",
    "temp = temp.simplify()\n",
    "eqn_7 = sympy.Eq(n_t,temp)\n",
    "eqn_7"
   ]
  },
  {
   "cell_type": "markdown",
   "metadata": {},
   "source": [
    "Conservation of the Riemann invariant"
   ]
  },
  {
   "cell_type": "code",
   "execution_count": 76,
   "metadata": {
    "collapsed": false
   },
   "outputs": [
    {
     "data": {
      "image/png": "[encoded data removed]",
      "text/latex": [
       "$$\\frac{2 \\sqrt{\\eta - 1} \\log{\\left (R \\right )}}{\\sqrt{\\eta - 1} + 1} + \\log{\\left (\\gamma_{s} \\right )} + \\frac{1}{\\eta} \\sqrt{\\eta - 1} \\log{\\left (p_{s} \\right )} = \\frac{2 \\sqrt{\\eta - 1} \\log{\\left (r_{t} \\right )}}{\\sqrt{\\eta - 1} + 1} + \\log{\\left (\\gamma_{t} \\right )} + \\frac{1}{\\eta} \\sqrt{\\eta - 1} \\log{\\left (p_{t} \\right )}$$"
      ],
      "text/plain": [
       "    _______                       _______                _______              \n",
       "2⋅╲╱ η - 1 ⋅log(R)              ╲╱ η - 1 ⋅log(p_s)   2⋅╲╱ η - 1 ⋅log(r_t)     \n",
       "────────────────── + log(γ_s) + ────────────────── = ──────────────────── + lo\n",
       "    _______                             η                 _______             \n",
       "  ╲╱ η - 1  + 1                                         ╲╱ η - 1  + 1         \n",
       "\n",
       "           _______         \n",
       "         ╲╱ η - 1 ⋅log(p_t)\n",
       "g(γ_t) + ──────────────────\n",
       "                 η         \n",
       "                           "
      ]
     },
     "execution_count": 76,
     "metadata": {},
     "output_type": "execute_result"
    }
   ],
   "source": [
    "riemann_invariant_conservation = sympy.Eq(riemann_invariant.subs({r:R,p:p_s,gamma:gamma_s}),\n",
    "                                          riemann_invariant.subs({r:r_t,p:p_t,gamma:gamma_t}))\n",
    "riemann_invariant_conservation"
   ]
  },
  {
   "cell_type": "markdown",
   "metadata": {},
   "source": [
    "We are now ready to calculate the terminal radius and Lorentz factor"
   ]
  },
  {
   "cell_type": "code",
   "execution_count": 77,
   "metadata": {
    "collapsed": false
   },
   "outputs": [
    {
     "data": {
      "image/png": "[encoded data removed]",
      "text/latex": [
       "$$- \\eta \\log{\\left (\\frac{E^{\\frac{1}{2 \\mu}} M^{1 - \\frac{1}{2 \\mu}}}{R^{3} c^{\\frac{1}{\\mu}} m} \\gamma_{s}^{1 - \\frac{1}{\\mu}} \\right )} + \\log{\\left (\\frac{\\eta}{R^{3}} E^{\\frac{1}{2 \\mu}} M^{1 - \\frac{1}{2 \\mu}} c^{2 - \\frac{1}{\\mu}} \\gamma_{s}^{2 - \\frac{1}{\\mu}} \\right )} = - \\eta \\log{\\left (\\frac{1}{m \\mu \\omega r_{t}^{3} \\sigma} E^{\\frac{1}{2 \\mu \\omega} \\left(2 \\mu \\omega \\psi + \\omega + 1\\right)} M^{- \\frac{1}{2 \\mu \\omega} \\left(2 \\mu \\omega \\left(\\psi - 1\\right) + \\omega + 1\\right)} c^{- \\frac{1}{\\mu \\omega} \\left(2 \\mu \\omega \\psi + \\omega + 1\\right)} \\gamma_{s}^{- \\frac{1}{\\mu \\omega} \\left(- \\mu \\omega \\sigma + \\omega + 1\\right)} \\right )} + \\log{\\left (\\frac{1}{\\mu \\omega r_{t}^{3} \\sigma} E^{\\frac{1}{2 \\mu \\omega} \\left(2 \\mu \\omega \\psi + \\omega + 1\\right)} M^{- \\frac{1}{2 \\mu \\omega} \\left(2 \\mu \\omega \\left(\\psi - 1\\right) + \\omega + 1\\right)} c^{2 - \\frac{1}{\\mu \\omega} \\left(2 \\mu \\omega \\psi + \\omega + 1\\right)} \\gamma_{s}^{- \\frac{1}{\\mu \\omega} \\left(- \\mu \\omega \\sigma + \\omega + 1\\right)} \\right )}$$"
      ],
      "text/plain": [
       "       ⎛  1        1   -1         1⎞      ⎛  1        1       1          1⎞   \n",
       "       ⎜ ───  1 - ───  ───    1 - ─⎟      ⎜ ───  1 - ───  2 - ─      2 - ─⎟   \n",
       "       ⎜ 2⋅μ      2⋅μ   μ         μ⎟      ⎜ 2⋅μ      2⋅μ      μ          μ⎟   \n",
       "       ⎜E   ⋅M       ⋅c   ⋅γ_s     ⎟      ⎜E   ⋅M       ⋅c     ⋅η⋅γ_s     ⎟   \n",
       "- η⋅log⎜───────────────────────────⎟ + log⎜───────────────────────────────⎟ = \n",
       "       ⎜             3             ⎟      ⎜                3              ⎟   \n",
       "       ⎝            R ⋅m           ⎠      ⎝               R               ⎠   \n",
       "\n",
       "       ⎛ 2⋅μ⋅ω⋅ψ + ω + 1  -(2⋅μ⋅ω⋅(ψ - 1) + ω + 1)   -(2⋅μ⋅ω⋅ψ + ω + 1)     -(\n",
       "       ⎜ ───────────────  ─────────────────────────  ───────────────────    ──\n",
       "       ⎜      2⋅μ⋅ω                 2⋅μ⋅ω                    μ⋅ω              \n",
       "       ⎜E               ⋅M                         ⋅c                   ⋅γ_s  \n",
       "- η⋅log⎜──────────────────────────────────────────────────────────────────────\n",
       "       ⎜                                              3                       \n",
       "       ⎝                                     m⋅μ⋅ω⋅r_t ⋅σ                     \n",
       "\n",
       "-μ⋅ω⋅σ + ω + 1) ⎞      ⎛ 2⋅μ⋅ω⋅ψ + ω + 1  -(2⋅μ⋅ω⋅(ψ - 1) + ω + 1)       2⋅μ⋅ω\n",
       "────────────────⎟      ⎜ ───────────────  ─────────────────────────  2 - ─────\n",
       "     μ⋅ω        ⎟      ⎜      2⋅μ⋅ω                 2⋅μ⋅ω                     \n",
       "                ⎟      ⎜E               ⋅M                         ⋅c         \n",
       "────────────────⎟ + log⎜──────────────────────────────────────────────────────\n",
       "                ⎟      ⎜                                             3        \n",
       "                ⎠      ⎝                                      μ⋅ω⋅r_t ⋅σ      \n",
       "\n",
       "⋅ψ + ω + 1    -(-μ⋅ω⋅σ + ω + 1) ⎞\n",
       "──────────    ──────────────────⎟\n",
       " μ⋅ω                 μ⋅ω        ⎟\n",
       "          ⋅γ_s                  ⎟\n",
       "────────────────────────────────⎟\n",
       "                                ⎟\n",
       "                                ⎠"
      ]
     },
     "execution_count": 77,
     "metadata": {},
     "output_type": "execute_result"
    }
   ],
   "source": [
    "temp = eqn_2\n",
    "temp = temp.subs(n_s,downstream_density.rhs)\n",
    "temp = temp.subs(p_s, eqn_1.rhs)\n",
    "temp = temp.subs(p_t,terminal_pressure.rhs)\n",
    "temp = temp.subs(n_t, eqn_7.rhs)\n",
    "temp = temp.subs(n_0, upstream_density_profile.rhs)\n",
    "temp = temp.subs(x,sympy.solve(lf_profile,x)[0])\n",
    "temp = sympy.expand_power_base(temp)\n",
    "temp = temp.simplify()\n",
    "r_t_gamma_relation = temp\n",
    "r_t_gamma_relation"
   ]
  },
  {
   "cell_type": "code",
   "execution_count": 78,
   "metadata": {
    "collapsed": false
   },
   "outputs": [
    {
     "data": {
      "image/png": "[encoded data removed]",
      "text/latex": [
       "$$\\frac{1}{\\eta \\left(\\sqrt{\\eta - 1} + 1\\right)} \\left(\\eta \\sqrt{\\eta - 1} \\log{\\left (R^{2} \\right )} + \\eta \\left(\\sqrt{\\eta - 1} + 1\\right) \\log{\\left (\\gamma_{s} \\right )} + \\sqrt{\\eta - 1} \\left(\\sqrt{\\eta - 1} + 1\\right) \\log{\\left (\\frac{\\eta}{R^{3}} E^{\\frac{1}{2 \\mu}} M^{1 - \\frac{1}{2 \\mu}} c^{2 - \\frac{1}{\\mu}} \\gamma_{s}^{2 - \\frac{1}{\\mu}} \\right )}\\right) = \\frac{1}{\\eta \\left(\\sqrt{\\eta - 1} + 1\\right)} \\left(2 \\eta \\sqrt{\\eta - 1} \\log{\\left (e^{\\frac{1}{6 \\mu \\omega \\left(\\eta - 1\\right)} \\left(\\eta \\log{\\left (\\frac{E^{2 \\mu \\omega \\psi + 1} M^{- 2 \\mu \\omega \\psi - 1} R^{6 \\mu \\omega}}{\\mu^{2 \\mu \\omega} \\omega^{2 \\mu \\omega} \\sigma^{2 \\mu \\omega}} c^{- 4 \\mu \\omega \\psi - 2} \\gamma_{s}^{2 \\mu \\omega \\sigma - 2 \\mu \\omega - 2} \\right )} + 2 \\mu \\omega \\log{\\left (\\eta \\right )} + \\log{\\left (\\frac{M^{2 \\mu \\omega \\psi + 1}}{R^{6 \\mu \\omega}} E^{- 2 \\mu \\omega \\psi - 1} c^{4 \\mu \\omega \\psi + 2} \\gamma_{s}^{- 2 \\mu \\omega \\sigma + 4 \\mu \\omega + 2} \\mu^{2 \\mu \\omega} \\omega^{2 \\mu \\omega} \\sigma^{2 \\mu \\omega} \\right )}\\right)} \\right )} + \\eta \\left(\\sqrt{\\eta - 1} + 1\\right) \\log{\\left (E^{\\psi} M^{- \\psi} c^{- 2 \\psi} \\gamma_{s}^{\\sigma} \\right )} + \\sqrt{\\eta - 1} \\left(\\sqrt{\\eta - 1} + 1\\right) \\log{\\left (\\frac{1}{\\mu \\omega \\sigma} E^{\\frac{1}{2 \\mu \\omega} \\left(2 \\mu \\omega \\psi + \\omega + 1\\right)} M^{\\frac{1}{2 \\mu \\omega} \\left(2 \\mu \\omega \\left(- \\psi + 1\\right) - \\omega - 1\\right)} c^{2 + \\frac{1}{\\mu \\omega} \\left(- 2 \\mu \\omega \\psi - \\omega - 1\\right)} \\gamma_{s}^{\\frac{1}{\\mu \\omega} \\left(\\mu \\omega \\sigma - \\omega - 1\\right)} e^{\\frac{1}{2 \\mu \\omega \\left(\\eta - 1\\right)} \\left(- \\eta \\log{\\left (\\frac{E^{2 \\mu \\omega \\psi + 1} M^{- 2 \\mu \\omega \\psi - 1} R^{6 \\mu \\omega}}{\\mu^{2 \\mu \\omega} \\omega^{2 \\mu \\omega} \\sigma^{2 \\mu \\omega}} c^{- 4 \\mu \\omega \\psi - 2} \\gamma_{s}^{2 \\mu \\omega \\sigma - 2 \\mu \\omega - 2} \\right )} - 2 \\mu \\omega \\log{\\left (\\eta \\right )} - \\log{\\left (\\frac{M^{2 \\mu \\omega \\psi + 1}}{R^{6 \\mu \\omega}} E^{- 2 \\mu \\omega \\psi - 1} c^{4 \\mu \\omega \\psi + 2} \\gamma_{s}^{- 2 \\mu \\omega \\sigma + 4 \\mu \\omega + 2} \\mu^{2 \\mu \\omega} \\omega^{2 \\mu \\omega} \\sigma^{2 \\mu \\omega} \\right )}\\right)} \\right )}\\right)$$"
      ],
      "text/plain": [
       "                                                                              \n",
       "                                                                              \n",
       "                                                                              \n",
       "    _______    ⎛ 2⎞     ⎛  _______    ⎞              _______ ⎛  _______    ⎞  \n",
       "η⋅╲╱ η - 1 ⋅log⎝R ⎠ + η⋅⎝╲╱ η - 1  + 1⎠⋅log(γ_s) + ╲╱ η - 1 ⋅⎝╲╱ η - 1  + 1⎠⋅l\n",
       "                                                                              \n",
       "                                                                              \n",
       "──────────────────────────────────────────────────────────────────────────────\n",
       "                                                  ⎛  _______    ⎞             \n",
       "                                                η⋅⎝╲╱ η - 1  + 1⎠             \n",
       "\n",
       "  ⎛  1        1       1          1⎞                                           \n",
       "  ⎜ ───  1 - ───  2 - ─      2 - ─⎟                    ⎛      ⎛ 2⋅μ⋅ω⋅ψ + 1  -\n",
       "  ⎜ 2⋅μ      2⋅μ      μ          μ⎟                    ⎜ η⋅log⎝E           ⋅M \n",
       "  ⎜E   ⋅M       ⋅c     ⋅η⋅γ_s     ⎟                    ⎜ ─────────────────────\n",
       "og⎜───────────────────────────────⎟         _______    ⎜                      \n",
       "  ⎜                3              ⎟   2⋅η⋅╲╱ η - 1 ⋅log⎝ℯ                     \n",
       "  ⎝               R               ⎠                                           \n",
       "─────────────────────────────────── = ────────────────────────────────────────\n",
       "                                                                              \n",
       "                                                                              \n",
       "\n",
       "                                                                              \n",
       "2⋅μ⋅ω⋅ψ - 1  6⋅μ⋅ω  -4⋅μ⋅ω⋅ψ - 2    2⋅μ⋅ω⋅σ - 2⋅μ⋅ω - 2  -2⋅μ⋅ω  -2⋅μ⋅ω  -2⋅μ⋅\n",
       "           ⋅R     ⋅c            ⋅γ_s                   ⋅μ      ⋅ω      ⋅σ     \n",
       "──────────────────────────────────────────────────────────────────────────────\n",
       "                                                                              \n",
       "                                                                              \n",
       "                                                                              \n",
       "──────────────────────────────────────────────────────────────────────────────\n",
       "                                                                              \n",
       "                                                                              \n",
       "\n",
       "                                                                              \n",
       "ω⎞                     ⎛ -2⋅μ⋅ω⋅ψ - 1  2⋅μ⋅ω⋅ψ + 1  -6⋅μ⋅ω  4⋅μ⋅ω⋅ψ + 2    -2⋅\n",
       " ⎠ + 2⋅μ⋅ω⋅log(η) + log⎝E            ⋅M           ⋅R      ⋅c           ⋅γ_s   \n",
       "──────────────────────────────────────────────────────────────────────────────\n",
       "  6⋅μ⋅ω⋅(η - 1)                                                               \n",
       "                                                                              \n",
       "                                                                              \n",
       "──────────────────────────────────────────────────────────────────────────────\n",
       "                                                                              \n",
       "                                                                              \n",
       "\n",
       "                                                                              \n",
       "μ⋅ω⋅σ + 4⋅μ⋅ω + 2  2⋅μ⋅ω  2⋅μ⋅ω  2⋅μ⋅ω⎞⎞                                      \n",
       "                 ⋅μ     ⋅ω     ⋅σ     ⎠⎟                                      \n",
       "───────────────────────────────────────⎟                                      \n",
       "                                       ⎟     ⎛  _______    ⎞    ⎛ ψ  -ψ  -2⋅ψ \n",
       "                                       ⎠ + η⋅⎝╲╱ η - 1  + 1⎠⋅log⎝E ⋅M  ⋅c    ⋅\n",
       "                                                                              \n",
       "──────────────────────────────────────────────────────────────────────────────\n",
       "                                                                              \n",
       "                                                                              \n",
       "\n",
       "                                     ⎛                                        \n",
       "                                     ⎜ 2⋅μ⋅ω⋅ψ + ω + 1  2⋅μ⋅ω⋅(-ψ + 1) - ω - 1\n",
       "                                     ⎜ ───────────────  ──────────────────────\n",
       "                                     ⎜      2⋅μ⋅ω               2⋅μ⋅ω         \n",
       "   σ⎞     _______ ⎛  _______    ⎞    ⎜E               ⋅M                      \n",
       "γ_s ⎠ + ╲╱ η - 1 ⋅⎝╲╱ η - 1  + 1⎠⋅log⎜────────────────────────────────────────\n",
       "                                     ⎝                                        \n",
       "──────────────────────────────────────────────────────────────────────────────\n",
       "                         ⎛  _______    ⎞                                      \n",
       "                       η⋅⎝╲╱ η - 1  + 1⎠                                      \n",
       "\n",
       "                                                ⎛ 2⋅μ⋅ω⋅ψ + 1  -2⋅μ⋅ω⋅ψ - 1  6\n",
       "      -2⋅μ⋅ω⋅ψ - ω - 1    μ⋅ω⋅σ - ω - 1  - η⋅log⎝E           ⋅M            ⋅R \n",
       "  2 + ────────────────    ─────────────  ─────────────────────────────────────\n",
       "            μ⋅ω                μ⋅ω                                            \n",
       "⋅c                    ⋅γ_s             ⋅ℯ                                     \n",
       "──────────────────────────────────────────────────────────────────────────────\n",
       "                                                                              \n",
       "──────────────────────────────────────────────────────────────────────────────\n",
       "                                                                              \n",
       "                                                                              \n",
       "\n",
       "⋅μ⋅ω  -4⋅μ⋅ω⋅ψ - 2    2⋅μ⋅ω⋅σ - 2⋅μ⋅ω - 2  -2⋅μ⋅ω  -2⋅μ⋅ω  -2⋅μ⋅ω⎞            \n",
       "    ⋅c            ⋅γ_s                   ⋅μ      ⋅ω      ⋅σ      ⎠ - 2⋅μ⋅ω⋅log\n",
       "──────────────────────────────────────────────────────────────────────────────\n",
       "                                                                 2⋅μ⋅ω⋅(η - 1)\n",
       "                                                                              \n",
       "──────────────────────────────────────────────────────────────────────────────\n",
       "                             μ⋅ω⋅σ                                            \n",
       "──────────────────────────────────────────────────────────────────────────────\n",
       "                                                                              \n",
       "                                                                              \n",
       "\n",
       "         ⎛ -2⋅μ⋅ω⋅ψ - 1  2⋅μ⋅ω⋅ψ + 1  -6⋅μ⋅ω  4⋅μ⋅ω⋅ψ + 2    -2⋅μ⋅ω⋅σ + 4⋅μ⋅ω \n",
       "(η) - log⎝E            ⋅M           ⋅R      ⋅c           ⋅γ_s                 \n",
       "──────────────────────────────────────────────────────────────────────────────\n",
       "                                                                              \n",
       "                                                                              \n",
       "──────────────────────────────────────────────────────────────────────────────\n",
       "                                                                              \n",
       "──────────────────────────────────────────────────────────────────────────────\n",
       "                                                                              \n",
       "                                                                              \n",
       "\n",
       "+ 2  2⋅μ⋅ω  2⋅μ⋅ω  2⋅μ⋅ω⎞⎞\n",
       "   ⋅μ     ⋅ω     ⋅σ     ⎠⎟\n",
       "─────────────────────────⎟\n",
       "                         ⎟\n",
       "                         ⎟\n",
       "─────────────────────────⎟\n",
       "                         ⎠\n",
       "──────────────────────────\n",
       "                          \n",
       "                          "
      ]
     },
     "execution_count": 78,
     "metadata": {},
     "output_type": "execute_result"
    }
   ],
   "source": [
    "temp = riemann_invariant_conservation\n",
    "temp = temp.subs(p_t,terminal_pressure.rhs)\n",
    "temp = temp.subs(n_t,eqn_7.rhs)\n",
    "temp = temp.subs(p_s,eqn_1.rhs)\n",
    "temp = temp.subs(gamma_t,terminal_gamma_ansatz.rhs)\n",
    "temp = temp.subs(n_0, upstream_density_profile.rhs)\n",
    "temp = temp.subs(x,sympy.solve(lf_profile,x)[0])\n",
    "temp = temp.subs(r_t,sympy.solve(sympy.expand_log(r_t_gamma_relation),r_t)[0])\n",
    "temp = sympy.expand_power_base(temp)\n",
    "temp = temp.simplify()\n",
    "raw_gamma_relation = temp\n",
    "raw_gamma_relation"
   ]
  },
  {
   "cell_type": "code",
   "execution_count": 79,
   "metadata": {
    "collapsed": false
   },
   "outputs": [
    {
     "data": {
      "image/png": "[encoded data removed]",
      "text/latex": [
       "$$\\sigma = \\frac{5 \\eta \\mu \\omega \\sqrt{\\eta - 1} + 6 \\eta \\mu \\omega + 2 \\eta \\sqrt{\\eta - 1} - 4 \\mu \\omega \\sqrt{\\eta - 1} - 6 \\mu \\omega - 2 \\sqrt{\\eta - 1}}{\\mu \\omega \\left(5 \\eta \\sqrt{\\eta - 1} + 3 \\eta - 5 \\sqrt{\\eta - 1} - 3\\right)}$$"
      ],
      "text/plain": [
       "              _______                   _______           _______             \n",
       "    5⋅η⋅μ⋅ω⋅╲╱ η - 1  + 6⋅η⋅μ⋅ω + 2⋅η⋅╲╱ η - 1  - 4⋅μ⋅ω⋅╲╱ η - 1  - 6⋅μ⋅ω - 2⋅\n",
       "σ = ──────────────────────────────────────────────────────────────────────────\n",
       "                            ⎛      _______             _______    ⎞           \n",
       "                        μ⋅ω⋅⎝5⋅η⋅╲╱ η - 1  + 3⋅η - 5⋅╲╱ η - 1  - 3⎠           \n",
       "\n",
       "  _______\n",
       "╲╱ η - 1 \n",
       "─────────\n",
       "         \n",
       "         "
      ]
     },
     "execution_count": 79,
     "metadata": {},
     "output_type": "execute_result"
    }
   ],
   "source": [
    "temp = sympy.Eq(gamma_s*raw_gamma_relation.lhs.diff(gamma_s),\n",
    "                gamma_s*raw_gamma_relation.rhs.diff(gamma_s))\n",
    "temp = temp.simplify()\n",
    "sigma_relation = sympy.Eq(sigma,sympy.solve(temp,sigma)[0].simplify())\n",
    "sigma_relation"
   ]
  },
  {
   "cell_type": "code",
   "execution_count": 80,
   "metadata": {
    "collapsed": false
   },
   "outputs": [
    {
     "data": {
      "image/png": "[encoded data removed]",
      "text/latex": [
       "$$\\left [ \\sigma = 2.08812645078124, \\quad \\sigma = 2.37240532426911\\right ]$$"
      ],
      "text/plain": [
       "[σ = 2.08812645078124, σ = 2.37240532426911]"
      ]
     },
     "execution_count": 80,
     "metadata": {},
     "output_type": "execute_result"
    }
   ],
   "source": [
    "[sigma_relation.subs({mu:0.23,omega:sympy.Rational(3,1),eta:sympy.Rational(4,3)}).n(),\n",
    " sigma_relation.subs({mu:0.23,omega:sympy.Rational(3,2),eta:sympy.Rational(4,3)}).n()]"
   ]
  },
  {
   "cell_type": "markdown",
   "metadata": {},
   "source": [
    "Solving for $\\psi$"
   ]
  },
  {
   "cell_type": "code",
   "execution_count": 81,
   "metadata": {
    "collapsed": false
   },
   "outputs": [
    {
     "data": {
      "image/png": "[encoded data removed]",
      "text/latex": [
       "$$\\psi = - \\frac{\\sqrt{\\eta - 1}}{\\mu \\omega \\left(5 \\sqrt{\\eta - 1} + 3\\right)}$$"
      ],
      "text/plain": [
       "            _______      \n",
       "         -╲╱ η - 1       \n",
       "ψ = ─────────────────────\n",
       "        ⎛    _______    ⎞\n",
       "    μ⋅ω⋅⎝5⋅╲╱ η - 1  + 3⎠"
      ]
     },
     "execution_count": 81,
     "metadata": {},
     "output_type": "execute_result"
    }
   ],
   "source": [
    "temp = sympy.Eq(E*raw_gamma_relation.lhs.diff(E),\n",
    "               E*raw_gamma_relation.rhs.diff(E))\n",
    "temp = temp.simplify()\n",
    "psi_relation = sympy.Eq(psi,sympy.solve(temp,psi)[0])\n",
    "psi_relation"
   ]
  },
  {
   "cell_type": "code",
   "execution_count": 82,
   "metadata": {
    "collapsed": false
   },
   "outputs": [
    {
     "data": {
      "image/png": "[encoded data removed]",
      "text/latex": [
       "$$\\left [ \\psi = -0.142139436743936, \\quad \\psi = -0.284278873487872\\right ]$$"
      ],
      "text/plain": [
       "[ψ = -0.142139436743936, ψ = -0.284278873487872]"
      ]
     },
     "execution_count": 82,
     "metadata": {},
     "output_type": "execute_result"
    }
   ],
   "source": [
    "[psi_relation.subs({mu:0.23,omega:sympy.Rational(3,1),eta:sympy.Rational(4,3)}).n(),\n",
    " psi_relation.subs({mu:0.23,omega:sympy.Rational(3,2),eta:sympy.Rational(4,3)}).n()]"
   ]
  },
  {
   "cell_type": "markdown",
   "metadata": {},
   "source": [
    "We can now calculate the terminal distance"
   ]
  },
  {
   "cell_type": "code",
   "execution_count": 83,
   "metadata": {
    "collapsed": false
   },
   "outputs": [
    {
     "data": {
      "image/png": "[encoded data removed]",
      "text/latex": [
       "$$R \\gamma_{s}^{\\lambda} \\left(\\frac{E}{M c^{2}}\\right)^{\\varpi}$$"
      ],
      "text/plain": [
       "             varpi\n",
       "     λ ⎛ E  ⎞     \n",
       "R⋅γ_s ⋅⎜────⎟     \n",
       "       ⎜   2⎟     \n",
       "       ⎝M⋅c ⎠     "
      ]
     },
     "execution_count": 83,
     "metadata": {},
     "output_type": "execute_result"
    }
   ],
   "source": [
    "pomega = sympy.Symbol('varpi',positive=True)\n",
    "lmbda = sympy.Symbol('lambda',positive=True)\n",
    "r_t_ansatz = R*(E/M/c**2)**pomega*gamma_s**lmbda\n",
    "r_t_ansatz"
   ]
  },
  {
   "cell_type": "code",
   "execution_count": 84,
   "metadata": {
    "collapsed": false
   },
   "outputs": [
    {
     "data": {
      "image/png": "[encoded data removed]",
      "text/latex": [
       "$$\\lambda = \\frac{\\eta \\mu \\omega - \\eta \\sqrt{\\eta - 1} - \\eta + 2 \\mu \\omega \\sqrt{\\eta - 1} + \\sqrt{\\eta - 1} + 1}{\\mu \\omega \\left(5 \\eta \\sqrt{\\eta - 1} + 3 \\eta - 5 \\sqrt{\\eta - 1} - 3\\right)}$$"
      ],
      "text/plain": [
       "                _______               _______     _______    \n",
       "    η⋅μ⋅ω - η⋅╲╱ η - 1  - η + 2⋅μ⋅ω⋅╲╱ η - 1  + ╲╱ η - 1  + 1\n",
       "λ = ─────────────────────────────────────────────────────────\n",
       "               ⎛      _______             _______    ⎞       \n",
       "           μ⋅ω⋅⎝5⋅η⋅╲╱ η - 1  + 3⋅η - 5⋅╲╱ η - 1  - 3⎠       "
      ]
     },
     "execution_count": 84,
     "metadata": {},
     "output_type": "execute_result"
    }
   ],
   "source": [
    "temp = r_t_gamma_relation\n",
    "temp = temp.subs(r_t,r_t_ansatz)\n",
    "temp = temp.rhs - temp.lhs\n",
    "temp = gamma_s*temp.diff(gamma_s)\n",
    "temp = temp.subs(sigma,sigma_relation.rhs)\n",
    "temp = temp.simplify()\n",
    "lambda_relation = sympy.Eq(lmbda,sympy.solve(temp,lmbda)[0])\n",
    "lambda_relation"
   ]
  },
  {
   "cell_type": "code",
   "execution_count": 85,
   "metadata": {
    "collapsed": false
   },
   "outputs": [
    {
     "data": {
      "image/png": "[encoded data removed]",
      "text/latex": [
       "$$\\left [ \\lambda = 0.491284866543811, \\quad \\lambda = 0.879617029487467\\right ]$$"
      ],
      "text/plain": [
       "[λ = 0.491284866543811, λ = 0.879617029487467]"
      ]
     },
     "execution_count": 85,
     "metadata": {},
     "output_type": "execute_result"
    }
   ],
   "source": [
    "[lambda_relation.subs({mu:0.23,omega:omega_val,eta:4./3.}) for omega_val in [1.5,3]]"
   ]
  },
  {
   "cell_type": "code",
   "execution_count": 86,
   "metadata": {
    "collapsed": false
   },
   "outputs": [
    {
     "data": {
      "image/png": "[encoded data removed]",
      "text/latex": [
       "$$\\varpi = \\frac{\\sqrt{\\eta - 1} + 1}{2 \\mu \\omega \\left(5 \\sqrt{\\eta - 1} + 3\\right)}$$"
      ],
      "text/plain": [
       "               _______         \n",
       "             ╲╱ η - 1  + 1     \n",
       "varpi = ───────────────────────\n",
       "              ⎛    _______    ⎞\n",
       "        2⋅μ⋅ω⋅⎝5⋅╲╱ η - 1  + 3⎠"
      ]
     },
     "execution_count": 86,
     "metadata": {},
     "output_type": "execute_result"
    }
   ],
   "source": [
    "temp = r_t_gamma_relation\n",
    "temp = temp.subs(r_t,r_t_ansatz)\n",
    "temp = temp.rhs - temp.lhs\n",
    "temp = E*temp.diff(E)\n",
    "temp = temp.subs(sigma,sigma_relation.rhs)\n",
    "temp = temp.subs(psi,psi_relation.rhs)\n",
    "temp = temp.simplify()\n",
    "pomega_relation = sympy.Eq(pomega,sympy.solve(temp,pomega)[0])\n",
    "pomega_relation"
   ]
  },
  {
   "cell_type": "code",
   "execution_count": 87,
   "metadata": {
    "collapsed": false
   },
   "outputs": [
    {
     "data": {
      "image/png": "[encoded data removed]",
      "text/latex": [
       "$$\\left [ \\varpi = 0.388332162943656, \\quad \\varpi = 0.194166081471828\\right ]$$"
      ],
      "text/plain": [
       "[varpi = 0.388332162943656, varpi = 0.194166081471828]"
      ]
     },
     "execution_count": 87,
     "metadata": {},
     "output_type": "execute_result"
    }
   ],
   "source": [
    "[pomega_relation.subs({mu:0.23,omega:omega_val,eta:4./3.}) for omega_val in [1.5,3]]"
   ]
  },
  {
   "cell_type": "markdown",
   "metadata": {},
   "source": [
    "# Closure relations #"
   ]
  },
  {
   "cell_type": "markdown",
   "metadata": {},
   "source": [
    "Breakout shell width"
   ]
  },
  {
   "cell_type": "code",
   "execution_count": 88,
   "metadata": {
    "collapsed": false
   },
   "outputs": [
    {
     "data": {
      "image/png": "[encoded data removed]",
      "text/latex": [
       "$$\\left(\\frac{R^{\\omega + 3} m}{M \\sigma_{t}}\\right)^{\\frac{1}{\\omega + 1}}$$"
      ],
      "text/plain": [
       "            1  \n",
       "          ─────\n",
       "          ω + 1\n",
       "⎛ ω + 3  ⎞     \n",
       "⎜R     ⋅m⎟     \n",
       "⎜────────⎟     \n",
       "⎝ M⋅σ_t  ⎠     "
      ]
     },
     "execution_count": 88,
     "metadata": {},
     "output_type": "execute_result"
    }
   ],
   "source": [
    "sigma_t = sympy.Symbol('sigma_t',positive=True)\n",
    "temp = sympy.Eq(sigma_t*x*n_0,1)\n",
    "temp = temp.subs(n_0,upstream_density_profile.rhs)\n",
    "temp = sympy.solve(temp,x)[0]\n",
    "breakout_shell_width = temp\n",
    "breakout_shell_width"
   ]
  },
  {
   "cell_type": "markdown",
   "metadata": {},
   "source": [
    "breakout shell rest mass"
   ]
  },
  {
   "cell_type": "code",
   "execution_count": 89,
   "metadata": {
    "collapsed": false
   },
   "outputs": [
    {
     "data": {
      "image/png": "[encoded data removed]",
      "text/latex": [
       "$$\\frac{4 \\pi}{\\sigma_{t}} R^{\\frac{2 \\omega}{\\omega + 1}} R^{\\frac{2}{\\omega + 1}} m$$"
      ],
      "text/plain": [
       "      2⋅ω     2    \n",
       "     ─────  ─────  \n",
       "     ω + 1  ω + 1  \n",
       "4⋅π⋅R     ⋅R     ⋅m\n",
       "───────────────────\n",
       "        σ_t        "
      ]
     },
     "execution_count": 89,
     "metadata": {},
     "output_type": "execute_result"
    }
   ],
   "source": [
    "temp = 4*sympy.pi*n_0*R**2*x*m\n",
    "temp = temp.subs(n_0,upstream_density_profile.rhs)\n",
    "temp = temp.subs(x,breakout_shell_width)\n",
    "temp = sympy.expand_power_base(temp)\n",
    "temp = temp.simplify()\n",
    "breakout_shell_rest_mass = temp\n",
    "breakout_shell_rest_mass"
   ]
  },
  {
   "cell_type": "markdown",
   "metadata": {},
   "source": [
    "Breakout shell lorentz factor"
   ]
  },
  {
   "cell_type": "code",
   "execution_count": 90,
   "metadata": {
    "collapsed": false
   },
   "outputs": [
    {
     "data": {
      "image/png": "[encoded data removed]",
      "text/latex": [
       "$$\\frac{\\sqrt{E}}{c} M^{\\frac{2 \\mu \\omega - \\omega - 1}{2 \\omega + 2}} \\left(\\frac{\\sigma_{t}}{R^{2} m}\\right)^{\\frac{\\mu \\omega}{\\omega + 1}}$$"
      ],
      "text/plain": [
       "                         μ⋅ω \n",
       "    2⋅μ⋅ω - ω - 1       ─────\n",
       "    ─────────────       ω + 1\n",
       "      2⋅(ω + 1)   ⎛σ_t ⎞     \n",
       "√E⋅M             ⋅⎜────⎟     \n",
       "                  ⎜ 2  ⎟     \n",
       "                  ⎝R ⋅m⎠     \n",
       "─────────────────────────────\n",
       "              c              "
      ]
     },
     "execution_count": 90,
     "metadata": {},
     "output_type": "execute_result"
    }
   ],
   "source": [
    "temp = lf_profile\n",
    "temp = temp.rhs\n",
    "temp = temp.subs(x,breakout_shell_width)\n",
    "temp = sympy.expand_power_base(temp)\n",
    "temp = temp.simplify()\n",
    "breakout_shell_lorentz_factor = temp\n",
    "breakout_shell_lorentz_factor"
   ]
  },
  {
   "cell_type": "markdown",
   "metadata": {},
   "source": [
    "breakout shell energy"
   ]
  },
  {
   "cell_type": "code",
   "execution_count": 91,
   "metadata": {
    "collapsed": false
   },
   "outputs": [
    {
     "data": {
      "image/png": "[encoded data removed]",
      "text/latex": [
       "$$4 \\pi E \\left(M \\sigma_{t}\\right)^{\\frac{1}{\\omega + 1} \\left(2 \\mu \\omega - \\omega - 1\\right)} \\left(R^{2} m\\right)^{\\frac{1}{\\omega + 1} \\left(- 2 \\mu \\omega + \\omega + 1\\right)}$$"
      ],
      "text/plain": [
       "                                 -2⋅μ⋅ω + ω + 1\n",
       "             2⋅μ⋅ω - ω - 1       ──────────────\n",
       "             ─────────────           ω + 1     \n",
       "                 ω + 1     ⎛ 2  ⎞              \n",
       "4⋅π⋅E⋅(M⋅σ_t)             ⋅⎝R ⋅m⎠              "
      ]
     },
     "execution_count": 91,
     "metadata": {},
     "output_type": "execute_result"
    }
   ],
   "source": [
    "temp = breakout_shell_rest_mass*c**2*breakout_shell_lorentz_factor**2\n",
    "temp = sympy.expand_power_base(temp)\n",
    "temp = temp.simplify()\n",
    "breakout_shell_energy = temp\n",
    "breakout_shell_energy"
   ]
  },
  {
   "cell_type": "markdown",
   "metadata": {},
   "source": [
    "Observed temperature"
   ]
  },
  {
   "cell_type": "code",
   "execution_count": 92,
   "metadata": {
    "collapsed": false
   },
   "outputs": [
    {
     "data": {
      "image/png": "[encoded data removed]",
      "text/latex": [
       "$$T_{ob} = T'_{th} \\gamma_{t}$$"
      ],
      "text/plain": [
       "T_ob = T'_th⋅γ_t"
      ]
     },
     "execution_count": 92,
     "metadata": {},
     "output_type": "execute_result"
    }
   ],
   "source": [
    "T_ob = sympy.Symbol('T_ob',positive=True)\n",
    "Tp_th = sympy.Symbol(r\"T'_th\",positive=True)\n",
    "observed_temperature = sympy.Eq(T_ob,Tp_th*gamma_t)\n",
    "observed_temperature"
   ]
  },
  {
   "cell_type": "markdown",
   "metadata": {},
   "source": [
    "Observed energy"
   ]
  },
  {
   "cell_type": "code",
   "execution_count": 93,
   "metadata": {
    "collapsed": false
   },
   "outputs": [
    {
     "data": {
      "image/png": "[encoded data removed]",
      "text/latex": [
       "$$E_{bo} = \\frac{E_{0} T'_{th} \\gamma_{t}}{T'_{0} \\gamma_{s}}$$"
      ],
      "text/plain": [
       "       E₀⋅T'_th⋅γ_t\n",
       "E_bo = ────────────\n",
       "         T'₀⋅γ_s   "
      ]
     },
     "execution_count": 93,
     "metadata": {},
     "output_type": "execute_result"
    }
   ],
   "source": [
    "E_bo = sympy.Symbol('E_bo',positive=True)\n",
    "E_0 = sympy.Symbol('E_0',positive=True)\n",
    "Tp_0 = sympy.Symbol(\"T'_0\",positive=True)\n",
    "observed_energy = sympy.Eq(E_bo,E_0*(gamma_t/gamma_s)*Tp_th/Tp_0)\n",
    "observed_energy"
   ]
  },
  {
   "cell_type": "markdown",
   "metadata": {},
   "source": [
    "Breakout duration"
   ]
  },
  {
   "cell_type": "code",
   "execution_count": 94,
   "metadata": {
    "collapsed": false
   },
   "outputs": [
    {
     "data": {
      "image/png": "[encoded data removed]",
      "text/latex": [
       "$$t_{bo} = \\frac{R \\gamma_{s}^{\\lambda} \\left(\\frac{E}{M c^{2}}\\right)^{\\varpi}}{c \\gamma_{t}^{2}}$$"
      ],
      "text/plain": [
       "                    varpi\n",
       "            λ ⎛ E  ⎞     \n",
       "       R⋅γ_s ⋅⎜────⎟     \n",
       "              ⎜   2⎟     \n",
       "              ⎝M⋅c ⎠     \n",
       "t_bo = ──────────────────\n",
       "                  2      \n",
       "             c⋅γ_t       "
      ]
     },
     "execution_count": 94,
     "metadata": {},
     "output_type": "execute_result"
    }
   ],
   "source": [
    "t_bo = sympy.Symbol('t_bo')\n",
    "temp = sympy.Eq(t_bo,r_t/gamma_t**2/c)\n",
    "temp = temp.subs(r_t, r_t_ansatz)\n",
    "breakout_time = temp\n",
    "breakout_time"
   ]
  },
  {
   "cell_type": "markdown",
   "metadata": {},
   "source": [
    "Finally, closure relations"
   ]
  },
  {
   "cell_type": "code",
   "execution_count": 95,
   "metadata": {
    "collapsed": false
   },
   "outputs": [],
   "source": [
    "temp = [breakout_time,\n",
    "        lf_profile.subs(x,breakout_shell_width).simplify(),\n",
    "        terminal_gamma_ansatz,\n",
    "        observed_temperature,\n",
    "        observed_energy,\n",
    "        sympy.Eq(E_0,breakout_shell_energy)]\n",
    "temp = map(lambda eqn: sympy.Eq(sympy.log(eqn.lhs), sympy.log(eqn.rhs)), temp)\n",
    "temp = map(lambda eqn: eqn.lhs - eqn.rhs, temp)\n",
    "temp = map(lambda eqn: sympy.expand_log(eqn),temp)\n",
    "temp = map(lambda eqn: eqn.subs(sympy.log(E_0), sympy.solve(temp[-1],sympy.log(E_0))[0]), temp)\n",
    "temp = map(lambda eqn: sympy.expand_log(eqn),temp)\n",
    "temp = map(lambda eqn: eqn.subs(sympy.log(R), sympy.solve(temp[-2],sympy.log(R))[0]), temp)\n",
    "temp = map(lambda eqn: sympy.expand_log(eqn),temp)\n",
    "temp = map(lambda eqn: eqn.subs(sympy.log(gamma_t), sympy.solve(temp[-3],sympy.log(gamma_t))[0]), temp)\n",
    "temp = map(lambda eqn: sympy.expand_log(eqn),temp)\n",
    "temp = map(lambda eqn: eqn.subs(sympy.log(gamma_s), sympy.solve(temp[-4],sympy.log(gamma_s))[0]), temp)\n",
    "temp = map(lambda eqn: sympy.expand_log(eqn),temp)\n",
    "temp = map(lambda eqn: eqn.subs(sympy.log(E), sympy.solve(temp[-5],sympy.log(E))[0]), temp)\n",
    "temp = map(lambda eqn: sympy.expand_log(eqn),temp)\n",
    "temp = map(lambda eqn: eqn.simplify(), temp)\n",
    "temp = map(lambda eqn: sympy.expand_log(eqn),temp)\n",
    "raw_closure = temp[0]"
   ]
  },
  {
   "cell_type": "code",
   "execution_count": 101,
   "metadata": {
    "collapsed": false
   },
   "outputs": [
    {
     "data": {
      "image/png": "[encoded data removed]",
      "text/latex": [
       "$$\\frac{7.20877600152772 s^{1.0}}{kg^{8.46545056276682 \\cdot 10^{-16}} m^{1.55431223447522 \\cdot 10^{-15}}}$$"
      ],
      "text/plain": [
       "                   -8.46545056276682e-16  -1.55431223447522e-15  1.0\n",
       "7.20877600152772⋅kg                     ⋅m                     ⋅s   "
      ]
     },
     "execution_count": 101,
     "metadata": {},
     "output_type": "execute_result"
    }
   ],
   "source": [
    "solar_mass = 2e30*sympy.physics.units.kg\n",
    "light_speed = 3e8*sympy.physics.units.meter/sympy.physics.units.second\n",
    "erg = sympy.physics.units.gram*(sympy.physics.units.cm/sympy.physics.units.second)**2\n",
    "thomson_cross_section = 6.65e-25*sympy.physics.units.cm**2\n",
    "proton_mass = 1.6e-27*sympy.physics.units.kg\n",
    "temp = sympy.log(t_bo)-raw_closure\n",
    "temp = temp.subs(psi,psi_relation.rhs)\n",
    "temp = temp.subs(lmbda, lambda_relation.rhs)\n",
    "temp = temp.subs(pomega, pomega_relation.rhs)\n",
    "temp = temp.subs(sigma, sigma_relation.rhs)\n",
    "temp = temp.subs(Tp_th, 50e3*sympy.physics.units.eV)\n",
    "temp = temp.subs(T_ob, 50e3*sympy.physics.units.eV)\n",
    "temp = temp.subs(Tp_0, 200e3*sympy.physics.units.eV)\n",
    "temp = temp.subs(M, solar_mass)\n",
    "temp = temp.subs(omega,3)\n",
    "temp = temp.subs(mu,0.23)\n",
    "temp = temp.subs(eta,4./3.)\n",
    "temp = temp.subs(E_bo,1e46*erg)\n",
    "temp = temp.subs(sigma_t, thomson_cross_section)\n",
    "temp = temp.subs(c, light_speed)\n",
    "temp = temp.subs(m, proton_mass)\n",
    "sympy.exp(temp).n()"
   ]
  },
  {
   "cell_type": "code",
   "execution_count": 97,
   "metadata": {
    "collapsed": false
   },
   "outputs": [
    {
     "data": {
      "image/png": "[encoded data removed]",
      "text/latex": [
       "$$0.585538816836146$$"
      ],
      "text/plain": [
       "0.585538816836146"
      ]
     },
     "execution_count": 97,
     "metadata": {},
     "output_type": "execute_result"
    }
   ],
   "source": [
    "temp = sympy.log(t_bo)-raw_closure\n",
    "temp = temp.diff(E_bo)*E_bo\n",
    "temp = sympy.simplify(temp)\n",
    "temp = temp.subs(psi,psi_relation.rhs)\n",
    "temp = temp.subs(lmbda, lambda_relation.rhs)\n",
    "temp = temp.subs(pomega, pomega_relation.rhs)\n",
    "temp = temp.subs(sigma, sigma_relation.rhs)\n",
    "temp = temp.subs(omega,3)\n",
    "temp = temp.subs(eta,4./3.)\n",
    "temp = temp.subs(mu,0.23)\n",
    "temp"
   ]
  },
  {
   "cell_type": "code",
   "execution_count": 98,
   "metadata": {
    "collapsed": false
   },
   "outputs": [
    {
     "data": {
      "image/png": "[encoded data removed]",
      "text/latex": [
       "$$-2.20723059158193$$"
      ],
      "text/plain": [
       "-2.20723059158193"
      ]
     },
     "execution_count": 98,
     "metadata": {},
     "output_type": "execute_result"
    }
   ],
   "source": [
    "temp = sympy.log(t_bo)-raw_closure\n",
    "temp = temp.diff(T_ob)*T_ob\n",
    "temp = sympy.simplify(temp)\n",
    "temp = temp.subs(psi,psi_relation.rhs)\n",
    "temp = temp.subs(lmbda, lambda_relation.rhs)\n",
    "temp = temp.subs(pomega, pomega_relation.rhs)\n",
    "temp = temp.subs(sigma, sigma_relation.rhs)\n",
    "temp = temp.subs(omega,3)\n",
    "temp = temp.subs(eta,4./3.)\n",
    "temp = temp.subs(mu,0.23)\n",
    "temp"
   ]
  },
  {
   "cell_type": "code",
   "execution_count": 99,
   "metadata": {
    "collapsed": false
   },
   "outputs": [
    {
     "data": {
      "image/png": "[encoded data removed]",
      "text/latex": [
       "$$-0.085538816836146$$"
      ],
      "text/plain": [
       "-0.0855388168361460"
      ]
     },
     "execution_count": 99,
     "metadata": {},
     "output_type": "execute_result"
    }
   ],
   "source": [
    "temp = sympy.log(t_bo)-raw_closure\n",
    "temp = temp.diff(M)*M\n",
    "temp = sympy.simplify(temp)\n",
    "temp = temp.subs(psi,psi_relation.rhs)\n",
    "temp = temp.subs(lmbda, lambda_relation.rhs)\n",
    "temp = temp.subs(pomega, pomega_relation.rhs)\n",
    "temp = temp.subs(sigma, sigma_relation.rhs)\n",
    "temp = temp.subs(omega,3)\n",
    "temp = temp.subs(eta,4./3.)\n",
    "temp = temp.subs(mu,0.23)\n",
    "temp"
   ]
  },
  {
   "cell_type": "code",
   "execution_count": null,
   "metadata": {
    "collapsed": true
   },
   "outputs": [],
   "source": []
  }
 ],
 "metadata": {
  "kernelspec": {
   "display_name": "Python 2",
   "language": "python",
   "name": "python2"
  },
  "language_info": {
   "codemirror_mode": {
    "name": "ipython",
    "version": 2
   },
   "file_extension": ".py",
   "mimetype": "text/x-python",
   "name": "python",
   "nbconvert_exporter": "python",
   "pygments_lexer": "ipython2",
   "version": "2.7.11"
  }
 },
 "nbformat": 4,
 "nbformat_minor": 0
}
